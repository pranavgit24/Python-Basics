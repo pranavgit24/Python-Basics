{
  "nbformat": 4,
  "nbformat_minor": 0,
  "metadata": {
    "colab": {
      "provenance": []
    },
    "kernelspec": {
      "name": "python3",
      "display_name": "Python 3"
    },
    "language_info": {
      "name": "python"
    }
  },
  "cells": [
    {
      "cell_type": "markdown",
      "source": [
        "#Theory Questions\n",
        "Q1. What is Python, why is it popular?\n",
        "\n",
        "Ans1: Python is a high-level, interpreted programming language that's known for being easy to read and write.\n",
        "It was created by Guido van Rossum and first released in 1991. Python is designed to be simple ,versatile and powerful.\n",
        "\n",
        "Python is popular because of the following features:\n",
        "- User-friendly : It is easy to learn for new users\n",
        "- Powerful ecosystem: Many libraries and frameworks (eg numpy, Pandas, Django etc) for various purposes such as data analysis, machine learning, automation etc.\n",
        "- Community Support: A huge active community to help in learning and problem-solving\n",
        "- In-demand skill: Creates many job opportunities due to its application in web development, AI, data science etc.\n",
        "- Cross-platform: Works on various OSs such as Windows, Mac and Linux\n",
        "\n",
        "\n",
        "Q2. What is an interpreter in Python?\n",
        "\n",
        "Ans2: In Python, an interpreter is the program that reads and runs the Python code.\n",
        "A python code is written; the interpreter translates the code one line at a time into actions the computer can\n",
        "understand and execute. The interpreter performs 3 main functions:\n",
        "-Reads the code line by line\n",
        "-Converts (interprets) it into a lower-level form (bytecode).\n",
        "-Executes the bytecode instructions step-by-step.\n",
        "Eg. There are different Python interpreters such CPython , PyPy, Jython, IronPython\n",
        "\n",
        "\n",
        "Q3. What are pre-defined keywords in Python?\n",
        "\n",
        "Ans3. Pre-defined keywords in Python are special reserved words that have a specific meaning in the language —\n",
        "we cannot use them as names for variables, functions, classes, etc.\n",
        "\n",
        "They are like \"built-in rules\" that Python understands.\n",
        "eg. of keywords: if, else, elif, while, for, break, continue, pass, def, return, class, yield, try, except, finally, raise,\n",
        "import, from, as, True, False, None, and, or, not, is, in, with\n",
        "\n",
        "\n",
        "Q4. Can keywords be used as variable names?\n",
        "\n",
        "Ans4. No, keywords cannot be used as variable names in Python. In doing so, Python throws a SyntaxError.\n",
        "eg. continue = 5  will throw an error\n",
        "\n",
        "\n",
        "Q5. What is mutability in Python?\n",
        "\n",
        "Ans5. Mutability means whether an object’s value can be changed after it’s created.\n",
        "\n",
        "If it can be changed, it's mutable; if it cannot be changed, it's immutable.\n",
        "\n",
        "eg.\n",
        "Lists are mutable\n",
        "\n",
        "my_list = [1, 2, 3]\n",
        "my_list[0] = 100  \n",
        "print(my_list)  # Output: [100, 2, 3]\n",
        "\n",
        "Strings are immutable\n",
        "\n",
        "my_str = \"fifo\"\n",
        "\n",
        "my_str[0] = \"J\" # error\n",
        "\n",
        "\n",
        "Q6. Why are lists mutable, but tuples are immutable?\n",
        "\n",
        "Ans6. Lists are designed to be flexible, and hence used when we want to change, add, or remove items after creating the list.\n",
        "\n",
        "Internally, Python keeps a list’s structure open, so it can expand, shrink, or rearrange items.\n",
        "\n",
        "Tuples are meant to be fixed collections of items. Tuples are faster, safer and memory-efficient because Python optimizes them that they don't change.They are often used for protected data such as coordinates.\n",
        "\n",
        "\n",
        "Q7. What is the difference between \"==\" and \"is\" operators in Python?\n",
        "\n",
        "Ans7. \"The \"==\" operator checks whether the values are equal\n",
        "\n",
        "eg. x = \"deer\"\n",
        "\n",
        "y = \"deer\" #then x==y\n",
        "\n",
        "The \"is\" operator checks whether two objects are the same object in memory\n",
        "\n",
        "eg.\n",
        "a = \"deer\"\n",
        "\n",
        "b=a  #then a is b\n",
        "\n",
        "\n",
        "\n",
        "Q8. What are logical operators in Python?\n",
        "\n",
        "Ans8. In Python, Logical operators are used to combine or compare conditions (True/False values). There are three logical operators: and, or, not\n",
        "\n",
        "x = 6\n",
        "\n",
        "print(x > 4 and x < 10)  # True as both conditions are True\n",
        "\n",
        "x = 3\n",
        "\n",
        "print(x < 4 or x > 10)  # True as atleast one of the conditions is True\n",
        "\n",
        "x = 8\n",
        "\n",
        "print(not (x > 5))  # False  - this is the reverse because of 'not'\n",
        "\n",
        "\n",
        "Q9. What is type casting in Python?\n",
        "\n",
        "Ans9. Type casting in Python means converting one data type into another.\n",
        "\n",
        "eg.\n",
        "\n",
        "num_str = \"10\"\n",
        "\n",
        "num_i = int(num_str)\n",
        "\n",
        "print(num_i + 5)  # Output: 15\n",
        "\n",
        "\n",
        "Q10. What is the difference between implicit and explicit typecasting?\n",
        "\n",
        "Ans10. Implicit typecasting is when Python automatically converts one type into another. It happens when safe such as in the case of int and float data types.\n",
        "eg.\n",
        "\n",
        "x = 4     # int\n",
        "\n",
        "y = 2.0   # float\n",
        "\n",
        "result = x + y   # Python automatically converts 4 into 4.0\n",
        "\n",
        "print(result)    # Output: 6.0 (float)\n",
        "\n",
        "Explicit typecasting is when the programmer tells Python to convert a value into another type on purpose.\n",
        "\n",
        "eg.\n",
        "\n",
        "num_str = \"10\"\n",
        "\n",
        "num_i = int(num_str)  #explicit conversion\n",
        "\n",
        "print(num_i + 5)  # Output: 15\n",
        "\n",
        "\n",
        "\n",
        "Q11. What is the purpose of conditional statements in Python?\n",
        "\n",
        "Ans11. Conditional statements are used to make decisions in the code based on conditions - different actions in the code based on whether the condition is True or False\n",
        "\n",
        "a = 10\n",
        "\n",
        "If a >= 5  #this condition is true\n",
        "\n",
        "   print(\"More than/equal to 5\")  \n",
        "if checks the first condition.\n",
        "\n",
        "If if is False, then elif (which means \"else if\") checks another condition.\n",
        "\n",
        "You can have many elif blocks to check multiple possibilities.\n",
        "\n",
        "else is optional at the end, to catch everything else if none of the if or elif conditions are true.\n",
        "else:\n",
        "\n",
        "print(\"Less than 5\")\n",
        "\n",
        "\n",
        "Q12. How does the elif statement work?\n",
        "\n",
        "Ans12. if checks the first condition.\n",
        "\n",
        "If if is False, then elif (which means \"else if\") checks another condition.\n",
        "\n",
        "We can have many elif blocks to check multiple possibilities.\n",
        "\n",
        "else is optional at the end, to catch everything else if none of the if or elif conditions are true.\n",
        "\n",
        "if condition1:\n",
        "    # Action 1\n",
        "elif condition2:\n",
        "    # Action 2\n",
        "elif condition3:\n",
        "    # Action 3\n",
        "else:\n",
        "    # Action 4\n",
        "\n",
        "Q13. What is the difference between for and while loops?\n",
        "\n",
        "Ans13. For loop is used when we can count or know how many steps you need or how many times to run the loop. While loop is used when we want to keep looping until something happens. For loop is used in sequences, fixed ranges, known counts whereas while loop is used based on a condition being true.\n",
        "\n",
        "\n",
        "Q14. Describe a scenario where a while loop is more suitable than a for loop.\n",
        "\n",
        "Ans14. If we ask the user to guess a number and keep asking until the user guesses it correctly, this scenario is more suitable for the while loop. We can assign the correct value to a particular variable and compare the value with that of the input taken from the user. The loop has to run until the input value is equal to the correct value (stored in the variable)"
      ],
      "metadata": {
        "id": "vXJOBVDLUK5J"
      }
    },
    {
      "cell_type": "code",
      "source": [
        "#Practical Questions\n",
        "\n",
        "#Q1. Write a Python program to print \"Hello, World!\"\n",
        "\n",
        "print(\"Hello, World!\")"
      ],
      "metadata": {
        "id": "C6qM4tdpOP5V"
      },
      "execution_count": null,
      "outputs": []
    },
    {
      "cell_type": "code",
      "source": [
        "#Q2. Write a Python progam to display your name and age.\n",
        "name = \"Pranav\"\n",
        "age = 28\n",
        "\n",
        "print(\"Name is \",name)\n",
        "print(\"Age is \",age)"
      ],
      "metadata": {
        "id": "7hfULMmoPeaO"
      },
      "execution_count": null,
      "outputs": []
    },
    {
      "cell_type": "code",
      "source": [
        "#Q3. Write a code to print all the pre-defined keywords in Python using the keyword library\n",
        "\n",
        "import keyword\n",
        "\n",
        "pykey_list= keyword.kwlist  #gives us a list of all the keywords that Python reserves. Storing that in a list\n",
        "print(\"Python keywords:\")\n",
        "for word in pykey_list:\n",
        "    print(word)"
      ],
      "metadata": {
        "id": "YqXpvGDjx4xQ"
      },
      "execution_count": null,
      "outputs": []
    },
    {
      "cell_type": "code",
      "source": [
        "#Q4. Write a program that checks if a given word is a Python keyword.\n",
        "\n",
        "import keyword\n",
        "\n",
        "word = input(\"Enter a word: \")\n",
        "\n",
        "# Check if the word is a Python keyword\n",
        "if keyword.iskeyword(word):\n",
        "    print(f\"'{word}' is a Python keyword!\")\n",
        "else:\n",
        "    print(f\"'{word}' is NOT a Python keyword.\")"
      ],
      "metadata": {
        "id": "RpWr_BQE0OKW"
      },
      "execution_count": null,
      "outputs": []
    },
    {
      "cell_type": "code",
      "source": [
        "#Q5. Create a list and tuple in Python, and demonstrate how attempting to change an element works differently for each\n",
        "\n",
        "li_list = [1 , 2 , 3]\n",
        "tu_tuple = (1, 2 , 3)\n",
        "\n",
        "print(\"Original list: \", li_list)\n",
        "\n",
        "li_list[0] = 4\n",
        "tu_tuple[0] = 5  #tuple is immutable..this will generate an error. if this line of code is removed, then the code runs successfully\n",
        "\n",
        "print(\"new list: \" ,li_list)\n",
        "print(\"Same tuple: \", tu_tuple)  # this will print the same original tuple if that line of code attempting to change the tuple element is removed\n",
        "\n",
        "#the error is deliberately not removed to show the cause of the error which is attempting to change the element in a tuple\n"
      ],
      "metadata": {
        "id": "-JZNoymW3p3T"
      },
      "execution_count": null,
      "outputs": []
    },
    {
      "cell_type": "code",
      "source": [
        "#Q6. Write a function to demonstrate the behaviour of mutable and immutable arguments\n",
        "\n",
        "# Function that tries to modify both a list (mutable) and an integer (immutable)\n",
        "def modify_data(my_list, my_number):\n",
        "    my_list.append(100)  # Modify the list (mutable)\n",
        "    my_number += 10      # Modify the number (immutable)\n",
        "\n",
        "# Create a list and an integer\n",
        "numbers = [1, 2, 3]\n",
        "num = 50\n",
        "\n",
        "# Print before calling the function\n",
        "print(\"Before function call:\")\n",
        "print(\"List:\", numbers)\n",
        "print(\"Number:\", num)\n",
        "\n",
        "# Call the function\n",
        "modify_data(numbers, num)\n",
        "\n",
        "# Print after calling the function\n",
        "print(\"\\nAfter function call:\")\n",
        "print(\"List:\", numbers)  # List will be changed\n",
        "print(\"Number:\", num)    # Number will remain the same"
      ],
      "metadata": {
        "id": "NAMOBZhO6G6F"
      },
      "execution_count": null,
      "outputs": []
    },
    {
      "cell_type": "code",
      "source": [
        "#Q7. Write a program that performs basic artihmetic operations on two user-input numbers\n",
        "\n",
        "num1 = input(\"Please enter 1st no. \")\n",
        "num1= int(num1)\n",
        "\n",
        "num2= input(\"Please enter the 2nd no. \")\n",
        "num2= int(num2)\n",
        "\n",
        "add= num1 + num2\n",
        "sub= num1 - num2\n",
        "mult= num1*num2\n",
        "div= num1/num2\n",
        "\n",
        "print(\"addition \", add)\n",
        "print(\"subtraction \", sub)\n",
        "print(\"multiplication \", mult)\n",
        "print(\"division \", div)"
      ],
      "metadata": {
        "id": "ZhKXkn0-_f3_"
      },
      "execution_count": null,
      "outputs": []
    },
    {
      "cell_type": "code",
      "source": [
        "#Q8. Write a program to demonstrate the use of logical operators\n",
        "\n",
        "a = 12\n",
        "b = 5\n",
        "\n",
        "# AND\n",
        "if a > 0 and b > 0:\n",
        "    print(\"Both a and b are positive numbers.\")\n",
        "\n",
        "# OR\n",
        "if a > 0 or b > 0:\n",
        "    print(\"At least one of a or b is positive.\")\n",
        "\n",
        "# NOT\n",
        "if not (b > 7):\n",
        "    print(\"b is not greater than 10.\")\n"
      ],
      "metadata": {
        "id": "M1GaFzPDA0cs"
      },
      "execution_count": null,
      "outputs": []
    },
    {
      "cell_type": "code",
      "source": [
        "#Q9. Write a python program to convert user input from string to integer, float and boolean types\n",
        "\n",
        "n= input(\"Enter a number \")\n",
        "\n",
        "int1= int(n)\n",
        "flo1=float(n)\n",
        "bool1=bool(n)\n",
        "\n",
        "print(\"Integer type is \", type(int1), \"Float type is \", type(flo1), \"Boolean type is \", type(bool1))"
      ],
      "metadata": {
        "id": "Q4Bpk0NfGuXI"
      },
      "execution_count": null,
      "outputs": []
    },
    {
      "cell_type": "code",
      "source": [
        "#Q10. Write a code to demonstrate typecasting with list elements\n",
        "\n",
        "str_list= [\"1\", \"2\", \"3\", \"4\"]\n",
        "\n",
        "print(\"Original list of strings \", str_list)\n",
        "\n",
        "int_list= [int (i) for i in str_list]   #typecasting using a loop\n",
        "print(\"After typecasting, the list is \", int_list)\n",
        "\n"
      ],
      "metadata": {
        "id": "ksQ483BzHvsg"
      },
      "execution_count": null,
      "outputs": []
    },
    {
      "cell_type": "code",
      "source": [
        "#Q11. Write a program that checks if a number is positive, negative or zero\n",
        "\n",
        "n = float(input(\"Enter a number: \"))\n",
        "\n",
        "# Check whether the number is positive, negative, or zero\n",
        "if n > 0:\n",
        "    print(\"The number is positive.\")\n",
        "elif n < 0:\n",
        "    print(\"The number is negative.\")\n",
        "else:\n",
        "    print(\"The number is zero.\")"
      ],
      "metadata": {
        "id": "27bNxp-kKc9K"
      },
      "execution_count": null,
      "outputs": []
    },
    {
      "cell_type": "code",
      "source": [
        "#Q12. Write a for loop to print numbers from 1 to 10\n",
        "\n",
        "for i in range(1, 11):\n",
        "    print(i)"
      ],
      "metadata": {
        "id": "hm4rSUfiLPDN"
      },
      "execution_count": null,
      "outputs": []
    },
    {
      "cell_type": "code",
      "source": [
        "#Q13. Write a Python program to find the sum of all even numbers between 1 and 50\n",
        "\n",
        "e_sum=0\n",
        "\n",
        "for n in range(1, 51):\n",
        "    if n % 2==0:\n",
        "        e_sum = e_sum + n\n",
        "\n",
        "print(\"Sum of the even numbers between 1 and 50 is \", e_sum)\n"
      ],
      "metadata": {
        "id": "_fOr696JL1PJ"
      },
      "execution_count": null,
      "outputs": []
    },
    {
      "cell_type": "code",
      "source": [
        "#Q14. Write a program to reverse a string using while loop\n",
        "\n",
        "# Take input from the user\n",
        "text = input(\"Enter a string: \")\n",
        "\n",
        "# Initialize variables\n",
        "reversed_text = \"\"\n",
        "index = len(text) - 1\n",
        "\n",
        "# Use while loop to reverse the string\n",
        "while index >= 0:\n",
        "    reversed_text += text[index]\n",
        "    index -= 1\n",
        "\n",
        "# Print the reversed string\n",
        "print(\"Reversed string:\", reversed_text)\n",
        "\n"
      ],
      "metadata": {
        "colab": {
          "base_uri": "https://localhost:8080/"
        },
        "id": "qBKHCH8uNRCv",
        "outputId": "e2f8b5c2-a3e8-47a7-e56f-a51a8839159a"
      },
      "execution_count": 48,
      "outputs": [
        {
          "output_type": "stream",
          "name": "stdout",
          "text": [
            "Enter a string: hello\n",
            "Reversed string: olleh\n"
          ]
        }
      ]
    },
    {
      "cell_type": "code",
      "source": [
        "#Q15. Write a Python program to calculate the factorial of a number provided by the user using a while loop\n",
        "\n",
        "# Take input from the user\n",
        "num = int(input(\"Enter a number to find its factorial: \"))\n",
        "\n",
        "# Initialize variables\n",
        "factorial = 1\n",
        "i = 1\n",
        "\n",
        "# Check if the number is negative, zero or positive\n",
        "if num < 0:\n",
        "    print(\"Sorry, factorial does not exist for negative numbers.\")\n",
        "elif num == 0:\n",
        "    print(\"The factorial of 0 is 1.\")\n",
        "else:\n",
        "    # Calculate factorial using while loop\n",
        "    while i <= num:\n",
        "        factorial *= i\n",
        "        i += 1\n",
        "    print(f\"The factorial of {num} is {factorial}.\")"
      ],
      "metadata": {
        "id": "vu7a8JnROb2G"
      },
      "execution_count": null,
      "outputs": []
    },
    {
      "cell_type": "code",
      "source": [],
      "metadata": {
        "id": "mV4KxZIXPDyo"
      },
      "execution_count": null,
      "outputs": []
    }
  ]
}